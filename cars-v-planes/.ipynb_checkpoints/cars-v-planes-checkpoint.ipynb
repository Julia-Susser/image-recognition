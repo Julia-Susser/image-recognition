{
 "cells": [
  {
   "cell_type": "code",
   "execution_count": 61,
   "metadata": {},
   "outputs": [
    {
     "name": "stdout",
     "output_type": "stream",
     "text": [
      "/Users/jsusser/Desktop/Random code files/image rec/v_data/train/cars/82car.jpg\n",
      "/Users/jsusser/Desktop/Random code files/image rec/v_data/train/planes/142plane.jpg\n",
      "/Users/jsusser/Desktop/Random code files/image rec/v_data/train/Banana/r_236_100.jpg\n"
     ]
    },
    {
     "data": {
      "image/png": "[encoded data removed]",
      "text/plain": [
       "<Figure size 432x288 with 1 Axes>"
      ]
     },
     "metadata": {
      "needs_background": "light"
     },
     "output_type": "display_data"
    }
   ],
   "source": [
    "import numpy as np # linear algebra\n",
    "import pandas as pd # data processing, CSV file I/O (e.g. pd.read_csv)\n",
    "import cv2\n",
    "import matplotlib.pyplot as plt\n",
    "import tensorflow as tf\n",
    "from tensorflow.keras.models import Sequential\n",
    "from tensorflow.keras.layers import Dense, Flatten, Dropout, Activation, Conv2D, MaxPooling2D\n",
    "import os\n",
    "path = \"/Users/jsusser/Desktop/Random code files/image rec/v_data/train\"\n",
    "for x in [\"cars\", \"planes\"]: \n",
    "    for p in os.listdir(os.path.join(path,x)):\n",
    "        print(os.path.join(path,x,p))\n",
    "        img_array = cv2.imread(os.path.join(path,x,p),cv2.IMREAD_GRAYSCALE)\n",
    "        new_img_array = cv2.resize(img_array, dsize=(80, 80))\n",
    "        plt.imshow(new_img_array,cmap=\"gray\")\n",
    "        break"
   ]
  },
  {
   "cell_type": "code",
   "execution_count": 63,
   "metadata": {},
   "outputs": [],
   "source": [
    "X = []\n",
    "y = []\n",
    "#convert = lambda category : int(category == 'cars')\n",
    "def convert(category):\n",
    "    \n",
    "    if category ==\"planes\":\n",
    "        return 0\n",
    "    else:\n",
    "        return 1\n",
    "def create_test_data(path):\n",
    "    for x in [\"cars\", \"planes\"]: \n",
    "        for p in os.listdir(os.path.join(path,x)):\n",
    "            category = x\n",
    "            category = convert(category)\n",
    "            img_array = cv2.imread(os.path.join(path,x,p),cv2.IMREAD_GRAYSCALE)\n",
    "            new_img_array = cv2.resize(img_array, dsize=(80, 80))\n",
    "            X.append(new_img_array)\n",
    "            y.append(category)\n",
    "\n",
    "\n",
    "create_test_data(path)\n",
    "X = np.array(X).reshape(-1, 80,80,1)\n",
    "y = np.array(y)"
   ]
  },
  {
   "cell_type": "code",
   "execution_count": 64,
   "metadata": {},
   "outputs": [],
   "source": [
    "\n",
    "X = X/255.0"
   ]
  },
  {
   "cell_type": "code",
   "execution_count": 65,
   "metadata": {},
   "outputs": [],
   "source": [
    "model = Sequential()\n",
    "\n",
    "\n",
    "# Adds a densely-connected layer with 64 units to the model:\n",
    "model.add(Conv2D(64,(3,3), activation = 'relu', input_shape = X.shape[1:]))\n",
    "model.add(MaxPooling2D(pool_size = (2,2)))\n",
    "# Add another:\n",
    "model.add(Conv2D(64,(3,3), activation = 'relu'))\n",
    "model.add(MaxPooling2D(pool_size = (2,2)))\n",
    "\n",
    "model.add(Flatten())\n",
    "model.add(Dense(64, activation='relu'))\n",
    "# Add a softmax layer with 10 output units:\n",
    "model.add(Dense(1, activation='sigmoid'))\n",
    "\n",
    "model.compile(optimizer=\"adam\",\n",
    "              loss='binary_crossentropy',\n",
    "              metrics=['accuracy'])"
   ]
  },
  {
   "cell_type": "code",
   "execution_count": 66,
   "metadata": {},
   "outputs": [
    {
     "name": "stdout",
     "output_type": "stream",
     "text": [
      "Epoch 1/10\n",
      "15/15 [==============================] - 4s 258ms/step - loss: 0.5500 - accuracy: 0.4867 - val_loss: -0.8900 - val_accuracy: 0.0000e+00\n",
      "Epoch 2/10\n",
      "15/15 [==============================] - 4s 251ms/step - loss: 0.2840 - accuracy: 0.5177 - val_loss: -8.7089 - val_accuracy: 0.0000e+00\n",
      "Epoch 3/10\n",
      "15/15 [==============================] - 4s 252ms/step - loss: -0.5793 - accuracy: 0.5332 - val_loss: -28.0676 - val_accuracy: 0.0000e+00\n",
      "Epoch 4/10\n",
      "15/15 [==============================] - 4s 254ms/step - loss: -1.9019 - accuracy: 0.5332 - val_loss: -102.0534 - val_accuracy: 0.0000e+00\n",
      "Epoch 5/10\n",
      "15/15 [==============================] - 4s 279ms/step - loss: -11.8308 - accuracy: 0.5929 - val_loss: -227.7512 - val_accuracy: 0.0000e+00\n",
      "Epoch 6/10\n",
      "15/15 [==============================] - 4s 262ms/step - loss: -31.6397 - accuracy: 0.5177 - val_loss: -652.8060 - val_accuracy: 0.0000e+00\n",
      "Epoch 7/10\n",
      "15/15 [==============================] - 4s 269ms/step - loss: -94.8573 - accuracy: 0.6084 - val_loss: -1591.2686 - val_accuracy: 0.0000e+00\n",
      "Epoch 8/10\n",
      "15/15 [==============================] - 4s 244ms/step - loss: -220.1456 - accuracy: 0.5686 - val_loss: -3996.8008 - val_accuracy: 0.0000e+00\n",
      "Epoch 9/10\n",
      "15/15 [==============================] - 4s 251ms/step - loss: -450.1356 - accuracy: 0.5553 - val_loss: -8150.7188 - val_accuracy: 0.0000e+00\n",
      "Epoch 10/10\n",
      "15/15 [==============================] - 4s 244ms/step - loss: -749.6712 - accuracy: 0.4934 - val_loss: -15392.6074 - val_accuracy: 0.0000e+00\n"
     ]
    },
    {
     "data": {
      "text/plain": [
       "<tensorflow.python.keras.callbacks.History at 0x64af16850>"
      ]
     },
     "execution_count": 66,
     "metadata": {},
     "output_type": "execute_result"
    }
   ],
   "source": [
    "model.fit(X, y, epochs=10, batch_size=32, validation_split=0.2)"
   ]
  },
  {
   "cell_type": "code",
   "execution_count": 22,
   "metadata": {},
   "outputs": [
    {
     "name": "stdout",
     "output_type": "stream",
     "text": [
      "WARNING:tensorflow:From /Users/jsusser/opt/anaconda3/lib/python3.7/site-packages/tensorflow/python/training/tracking/tracking.py:111: Model.state_updates (from tensorflow.python.keras.engine.training) is deprecated and will be removed in a future version.\n",
      "Instructions for updating:\n",
      "This property should not be used in TensorFlow 2.0, as updates are applied automatically.\n",
      "WARNING:tensorflow:From /Users/jsusser/opt/anaconda3/lib/python3.7/site-packages/tensorflow/python/training/tracking/tracking.py:111: Layer.updates (from tensorflow.python.keras.engine.base_layer) is deprecated and will be removed in a future version.\n",
      "Instructions for updating:\n",
      "This property should not be used in TensorFlow 2.0, as updates are applied automatically.\n",
      "INFO:tensorflow:Assets written to: planes-cars/assets\n"
     ]
    }
   ],
   "source": [
    "model.save('planes-cars')"
   ]
  },
  {
   "cell_type": "code",
   "execution_count": 67,
   "metadata": {},
   "outputs": [
    {
     "name": "stdout",
     "output_type": "stream",
     "text": [
      "WARNING:tensorflow:10 out of the last 11 calls to <function Model.make_predict_function.<locals>.predict_function at 0x64b1f84d0> triggered tf.function retracing. Tracing is expensive and the excessive number of tracings could be due to (1) creating @tf.function repeatedly in a loop, (2) passing tensors with different shapes, (3) passing Python objects instead of tensors. For (1), please define your @tf.function outside of the loop. For (2), @tf.function has experimental_relax_shapes=True option that relaxes argument shapes that can avoid unnecessary retracing. For (3), please refer to https://www.tensorflow.org/tutorials/customization/performance#python_or_tensor_args and https://www.tensorflow.org/api_docs/python/tf/function for  more details.\n"
     ]
    },
    {
     "data": {
      "text/plain": [
       "[1]"
      ]
     },
     "execution_count": 67,
     "metadata": {},
     "output_type": "execute_result"
    }
   ],
   "source": [
    "import os\n",
    "from keras.preprocessing.image import load_img\n",
    "from keras.preprocessing.image import img_to_array\n",
    "from keras.models import load_model\n",
    "from tensorflow import keras\n",
    "import numpy as np\n",
    "import cv2\n",
    "img_array = cv2.imread(\"/Users/jsusser/Desktop/download-3.jpg\",cv2.IMREAD_GRAYSCALE)\n",
    "new_img_array = cv2.resize(img_array, dsize=(80, 80))\n",
    "\n",
    "X_test = np.array(new_img_array).reshape(-1,80,80,1)\n",
    "X_test = X_test/255\n",
    "\n",
    "predictions = model.predict(X_test)\n",
    "\n",
    "predicted_val = [int(round(p[0])) for p in predictions]\n",
    "\n",
    "predicted_val"
   ]
  },
  {
   "cell_type": "code",
   "execution_count": 60,
   "metadata": {},
   "outputs": [
    {
     "data": {
      "text/plain": [
       "'plane - 0, car - 1'"
      ]
     },
     "execution_count": 60,
     "metadata": {},
     "output_type": "execute_result"
    }
   ],
   "source": [
    "\"plane - 0, car - 1\""
   ]
  },
  {
   "cell_type": "code",
   "execution_count": null,
   "metadata": {},
   "outputs": [],
   "source": []
  }
 ],
 "metadata": {
  "kernelspec": {
   "display_name": "Python 3",
   "language": "python",
   "name": "python3"
  },
  "language_info": {
   "codemirror_mode": {
    "name": "ipython",
    "version": 3
   },
   "file_extension": ".py",
   "mimetype": "text/x-python",
   "name": "python",
   "nbconvert_exporter": "python",
   "pygments_lexer": "ipython3",
   "version": "3.7.6"
  }
 },
 "nbformat": 4,
 "nbformat_minor": 4
}
