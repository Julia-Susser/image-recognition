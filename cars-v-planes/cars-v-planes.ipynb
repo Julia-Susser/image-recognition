{
 "cells": [
  {
   "cell_type": "code",
   "execution_count": 68,
   "metadata": {},
   "outputs": [
    {
     "name": "stdout",
     "output_type": "stream",
     "text": [
      "/Users/jsusser/Desktop/Random code files/image rec/v_data/train/cars/82car.jpg\n",
      "/Users/jsusser/Desktop/Random code files/image rec/v_data/train/planes/142plane.jpg\n"
     ]
    },
    {
     "data": {
      "image/png": "[encoded data removed]",
      "text/plain": [
       "<Figure size 432x288 with 1 Axes>"
      ]
     },
     "metadata": {
      "needs_background": "light"
     },
     "output_type": "display_data"
    }
   ],
   "source": [
    "import numpy as np # linear algebra\n",
    "import pandas as pd # data processing, CSV file I/O (e.g. pd.read_csv)\n",
    "import cv2\n",
    "import matplotlib.pyplot as plt\n",
    "import tensorflow as tf\n",
    "from tensorflow.keras.models import Sequential\n",
    "from tensorflow.keras.layers import Dense, Flatten, Dropout, Activation, Conv2D, MaxPooling2D\n",
    "import os\n",
    "path = \"/Users/jsusser/Desktop/Random code files/image rec/v_data/train\"\n",
    "for x in [\"cars\", \"planes\"]: \n",
    "    for p in os.listdir(os.path.join(path,x)):\n",
    "        print(os.path.join(path,x,p))\n",
    "        img_array = cv2.imread(os.path.join(path,x,p),cv2.IMREAD_GRAYSCALE)\n",
    "        new_img_array = cv2.resize(img_array, dsize=(80, 80))\n",
    "        plt.imshow(new_img_array,cmap=\"gray\")\n",
    "        break"
   ]
  },
  {
   "cell_type": "code",
   "execution_count": 69,
   "metadata": {},
   "outputs": [],
   "source": [
    "X = []\n",
    "y = []\n",
    "#convert = lambda category : int(category == 'cars')\n",
    "def convert(category):\n",
    "    \n",
    "    if category ==\"planes\":\n",
    "        return 0\n",
    "    else:\n",
    "        return 1\n",
    "def create_test_data(path):\n",
    "    for x in [\"cars\", \"planes\"]: \n",
    "        for p in os.listdir(os.path.join(path,x)):\n",
    "            category = x\n",
    "            category = convert(category)\n",
    "            img_array = cv2.imread(os.path.join(path,x,p),cv2.IMREAD_GRAYSCALE)\n",
    "            new_img_array = cv2.resize(img_array, dsize=(80, 80))\n",
    "            X.append(new_img_array)\n",
    "            y.append(category)\n",
    "\n",
    "\n",
    "create_test_data(path)\n",
    "X = np.array(X).reshape(-1, 80,80,1)\n",
    "y = np.array(y)"
   ]
  },
  {
   "cell_type": "code",
   "execution_count": 70,
   "metadata": {},
   "outputs": [],
   "source": [
    "\n",
    "X = X/255.0"
   ]
  },
  {
   "cell_type": "code",
   "execution_count": 71,
   "metadata": {},
   "outputs": [],
   "source": [
    "model = Sequential()\n",
    "\n",
    "\n",
    "# Adds a densely-connected layer with 64 units to the model:\n",
    "model.add(Conv2D(64,(3,3), activation = 'relu', input_shape = X.shape[1:]))\n",
    "model.add(MaxPooling2D(pool_size = (2,2)))\n",
    "# Add another:\n",
    "model.add(Conv2D(64,(3,3), activation = 'relu'))\n",
    "model.add(MaxPooling2D(pool_size = (2,2)))\n",
    "\n",
    "model.add(Flatten())\n",
    "model.add(Dense(64, activation='relu'))\n",
    "# Add a softmax layer with 10 output units:\n",
    "model.add(Dense(1, activation='sigmoid'))\n",
    "\n",
    "model.compile(optimizer=\"adam\",\n",
    "              loss='binary_crossentropy',\n",
    "              metrics=['accuracy'])"
   ]
  },
  {
   "cell_type": "code",
   "execution_count": 72,
   "metadata": {},
   "outputs": [
    {
     "name": "stdout",
     "output_type": "stream",
     "text": [
      "Epoch 1/10\n",
      "10/10 [==============================] - 3s 268ms/step - loss: 0.6265 - accuracy: 0.5906 - val_loss: 0.8614 - val_accuracy: 0.2000\n",
      "Epoch 2/10\n",
      "10/10 [==============================] - 3s 270ms/step - loss: 0.4960 - accuracy: 0.7937 - val_loss: 0.8066 - val_accuracy: 0.6000\n",
      "Epoch 3/10\n",
      "10/10 [==============================] - 3s 257ms/step - loss: 0.4133 - accuracy: 0.8406 - val_loss: 0.5872 - val_accuracy: 0.9000\n",
      "Epoch 4/10\n",
      "10/10 [==============================] - 4s 387ms/step - loss: 0.3446 - accuracy: 0.8687 - val_loss: 0.7809 - val_accuracy: 0.7250\n",
      "Epoch 5/10\n",
      "10/10 [==============================] - 3s 290ms/step - loss: 0.2768 - accuracy: 0.8750 - val_loss: 0.8915 - val_accuracy: 0.6750\n",
      "Epoch 6/10\n",
      "10/10 [==============================] - 3s 344ms/step - loss: 0.2021 - accuracy: 0.9156 - val_loss: 1.0645 - val_accuracy: 0.6375\n",
      "Epoch 7/10\n",
      "10/10 [==============================] - 3s 343ms/step - loss: 0.1553 - accuracy: 0.9531 - val_loss: 0.6525 - val_accuracy: 0.7750\n",
      "Epoch 8/10\n",
      "10/10 [==============================] - 3s 341ms/step - loss: 0.1049 - accuracy: 0.9719 - val_loss: 0.6143 - val_accuracy: 0.8125\n",
      "Epoch 9/10\n",
      "10/10 [==============================] - 3s 329ms/step - loss: 0.0612 - accuracy: 0.9875 - val_loss: 0.3491 - val_accuracy: 0.9000\n",
      "Epoch 10/10\n",
      "10/10 [==============================] - 3s 285ms/step - loss: 0.0537 - accuracy: 0.9875 - val_loss: 0.3603 - val_accuracy: 0.9000\n"
     ]
    },
    {
     "data": {
      "text/plain": [
       "<tensorflow.python.keras.callbacks.History at 0x64b1ea190>"
      ]
     },
     "execution_count": 72,
     "metadata": {},
     "output_type": "execute_result"
    }
   ],
   "source": [
    "model.fit(X, y, epochs=10, batch_size=32, validation_split=0.2)"
   ]
  },
  {
   "cell_type": "code",
   "execution_count": 76,
   "metadata": {},
   "outputs": [
    {
     "name": "stdout",
     "output_type": "stream",
     "text": [
      "INFO:tensorflow:Assets written to: planes-cars/assets\n"
     ]
    }
   ],
   "source": [
    "model.save('planes-cars')"
   ]
  },
  {
   "cell_type": "code",
   "execution_count": 77,
   "metadata": {},
   "outputs": [
    {
     "data": {
      "text/plain": [
       "[0]"
      ]
     },
     "execution_count": 77,
     "metadata": {},
     "output_type": "execute_result"
    }
   ],
   "source": [
    "import os\n",
    "from keras.preprocessing.image import load_img\n",
    "from keras.preprocessing.image import img_to_array\n",
    "from keras.models import load_model\n",
    "from tensorflow import keras\n",
    "import numpy as np\n",
    "import cv2\n",
    "img_array = cv2.imread(\"/Users/jsusser/Desktop/download.jpg\",cv2.IMREAD_GRAYSCALE)\n",
    "new_img_array = cv2.resize(img_array, dsize=(80, 80))\n",
    "\n",
    "X_test = np.array(new_img_array).reshape(-1,80,80,1)\n",
    "X_test = X_test/255\n",
    "\n",
    "predictions = model.predict(X_test)\n",
    "\n",
    "predicted_val = [int(round(p[0])) for p in predictions]\n",
    "\n",
    "predicted_val"
   ]
  },
  {
   "cell_type": "code",
   "execution_count": 75,
   "metadata": {},
   "outputs": [
    {
     "data": {
      "text/plain": [
       "'plane - 0, car - 1'"
      ]
     },
     "execution_count": 75,
     "metadata": {},
     "output_type": "execute_result"
    }
   ],
   "source": [
    "\"plane - 0, car - 1\""
   ]
  },
  {
   "cell_type": "code",
   "execution_count": null,
   "metadata": {},
   "outputs": [],
   "source": []
  }
 ],
 "metadata": {
  "kernelspec": {
   "display_name": "Python 3",
   "language": "python",
   "name": "python3"
  },
  "language_info": {
   "codemirror_mode": {
    "name": "ipython",
    "version": 3
   },
   "file_extension": ".py",
   "mimetype": "text/x-python",
   "name": "python",
   "nbconvert_exporter": "python",
   "pygments_lexer": "ipython3",
   "version": "3.7.6"
  }
 },
 "nbformat": 4,
 "nbformat_minor": 4
}
