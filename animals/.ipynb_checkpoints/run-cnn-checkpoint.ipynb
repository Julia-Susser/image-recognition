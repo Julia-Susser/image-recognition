{
 "cells": [
  {
   "cell_type": "code",
   "execution_count": 1,
   "metadata": {},
   "outputs": [
    {
     "name": "stdout",
     "output_type": "stream",
     "text": [
      "2\n"
     ]
    }
   ],
   "source": [
    "from keras.preprocessing.image import load_img\n",
    "from keras.preprocessing.image import img_to_array\n",
    "from keras.models import load_model\n",
    "from tensorflow import keras\n",
    "import numpy as np\n",
    "# load and prepare the image\n",
    "def load_image(filename):\n",
    "\n",
    "    img = load_img(filename, target_size=(32, 32))\n",
    "\n",
    "    img = img_to_array(img)\n",
    "\n",
    "    img = img.reshape(1, 32, 32, 3)\n",
    "\n",
    "    img = img.astype('float32')\n",
    "    img = img / 255.0\n",
    "    return img\n",
    " \n",
    "# load an image and predict the class\n",
    "def run_example():\n",
    "\n",
    "    img = load_image('/Users/jsusser/Desktop/cnn-img/download-8.jpg')\n",
    "\n",
    "    \n",
    "    t = keras.models.load_model('cnn')\n",
    "    result = np.argmax(t.predict(img), axis=-1)\n",
    "    print(result[0])\n",
    " \n",
    "# entry point, run the example\n",
    "run_example()"
   ]
  },
  {
   "cell_type": "code",
   "execution_count": null,
   "metadata": {},
   "outputs": [],
   "source": [
    "\"\"\"airplane : 0\n",
    "automobile : 1\n",
    "bird : 2\n",
    "cat : 3\n",
    "deer : 4\n",
    "dog : 5\n",
    "frog : 6\n",
    "horse : 7\n",
    "ship : 8\n",
    "truck : 9\"\"\""
   ]
  }
 ],
 "metadata": {
  "kernelspec": {
   "display_name": "Python 3",
   "language": "python",
   "name": "python3"
  },
  "language_info": {
   "codemirror_mode": {
    "name": "ipython",
    "version": 3
   },
   "file_extension": ".py",
   "mimetype": "text/x-python",
   "name": "python",
   "nbconvert_exporter": "python",
   "pygments_lexer": "ipython3",
   "version": "3.8.4"
  }
 },
 "nbformat": 4,
 "nbformat_minor": 4
}
