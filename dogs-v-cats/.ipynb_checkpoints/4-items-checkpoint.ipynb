{
 "cells": [
  {
   "cell_type": "code",
   "execution_count": 1,
   "metadata": {},
   "outputs": [],
   "source": [
    "import numpy as np # linear algebra\n",
    "import pandas as pd # data processing, CSV file I/O (e.g. pd.read_csv)\n",
    "import cv2\n",
    "import matplotlib.pyplot as plt\n",
    "import tensorflow as tf\n",
    "from tensorflow.keras.models import Sequential\n",
    "from tensorflow.keras.layers import Dense, Flatten, Dropout, Activation, Conv2D, MaxPooling2D\n",
    "import os\n"
   ]
  },
  {
   "cell_type": "code",
   "execution_count": 2,
   "metadata": {},
   "outputs": [],
   "source": [
    "X = []\n",
    "y = []\n",
    "convert = lambda category : int(category == 'dog')\n",
    "def create_test_data():\n",
    "    path=\"train\"\n",
    "    for p in os.listdir(path):\n",
    "        category = p.split(\".\")[0]\n",
    "        category = convert(category)\n",
    "        img_array = cv2.imread(os.path.join(path,p),cv2.IMREAD_GRAYSCALE)\n",
    "        new_img_array = cv2.resize(img_array, dsize=(80, 80))\n",
    "        X.append(new_img_array)\n",
    "        y.append(category)\n",
    "    for x in [\"cars\", \"planes\"]: \n",
    "        for p in os.listdir(os.path.join(path,x)):\n",
    "            category = x\n",
    "            category = convert(category)\n",
    "            img_array = cv2.imread(os.path.join(path,x,p),cv2.IMREAD_GRAYSCALE)\n",
    "            new_img_array = cv2.resize(img_array, dsize=(80, 80))\n",
    "            X.append(new_img_array)\n",
    "            y.append(category)\n",
    "\n",
    "\n",
    "create_test_data()\n",
    "X = np.array(X).reshape(-1, 80,80,1)\n",
    "y = np.array(y)"
   ]
  },
  {
   "cell_type": "code",
   "execution_count": 3,
   "metadata": {},
   "outputs": [],
   "source": [
    "\n",
    "X = X/255.0"
   ]
  },
  {
   "cell_type": "code",
   "execution_count": 4,
   "metadata": {},
   "outputs": [],
   "source": [
    "model = Sequential()\n",
    "\n",
    "\n",
    "# Adds a densely-connected layer with 64 units to the model:\n",
    "model.add(Conv2D(64,(3,3), activation = 'relu', input_shape = X.shape[1:]))\n",
    "model.add(MaxPooling2D(pool_size = (2,2)))\n",
    "# Add another:\n",
    "model.add(Conv2D(64,(3,3), activation = 'relu'))\n",
    "model.add(MaxPooling2D(pool_size = (2,2)))\n",
    "\n",
    "model.add(Flatten())\n",
    "model.add(Dense(64, activation='relu'))\n",
    "# Add a softmax layer with 10 output units:\n",
    "model.add(Dense(1, activation='sigmoid'))\n",
    "\n",
    "model.compile(optimizer=\"adam\",\n",
    "              loss='binary_crossentropy',\n",
    "              metrics=['accuracy'])"
   ]
  },
  {
   "cell_type": "code",
   "execution_count": 5,
   "metadata": {},
   "outputs": [
    {
     "name": "stdout",
     "output_type": "stream",
     "text": [
      "Epoch 1/10\n",
      "625/625 [==============================] - 169s 271ms/step - loss: 0.6205 - accuracy: 0.6505 - val_loss: 0.5604 - val_accuracy: 0.7162\n",
      "Epoch 2/10\n",
      "625/625 [==============================] - 168s 269ms/step - loss: 0.5200 - accuracy: 0.7451 - val_loss: 0.4876 - val_accuracy: 0.7658\n",
      "Epoch 3/10\n",
      "625/625 [==============================] - 153s 244ms/step - loss: 0.4627 - accuracy: 0.7821 - val_loss: 0.4734 - val_accuracy: 0.7724\n",
      "Epoch 4/10\n",
      "625/625 [==============================] - 152s 243ms/step - loss: 0.4144 - accuracy: 0.8112 - val_loss: 0.4494 - val_accuracy: 0.7934\n",
      "Epoch 5/10\n",
      "625/625 [==============================] - 152s 244ms/step - loss: 0.3718 - accuracy: 0.8321 - val_loss: 0.4539 - val_accuracy: 0.7902\n",
      "Epoch 6/10\n",
      "625/625 [==============================] - 152s 243ms/step - loss: 0.3199 - accuracy: 0.8583 - val_loss: 0.4879 - val_accuracy: 0.7874\n",
      "Epoch 7/10\n",
      "625/625 [==============================] - 153s 245ms/step - loss: 0.2634 - accuracy: 0.8865 - val_loss: 0.5869 - val_accuracy: 0.7744\n",
      "Epoch 8/10\n",
      "625/625 [==============================] - 177s 283ms/step - loss: 0.2046 - accuracy: 0.9160 - val_loss: 0.5821 - val_accuracy: 0.7812\n",
      "Epoch 9/10\n",
      "625/625 [==============================] - 187s 299ms/step - loss: 0.1507 - accuracy: 0.9409 - val_loss: 0.6449 - val_accuracy: 0.7864\n",
      "Epoch 10/10\n",
      "625/625 [==============================] - 171s 274ms/step - loss: 0.1025 - accuracy: 0.9628 - val_loss: 0.7018 - val_accuracy: 0.7878\n"
     ]
    },
    {
     "data": {
      "text/plain": [
       "<tensorflow.python.keras.callbacks.History at 0x648a92d90>"
      ]
     },
     "execution_count": 5,
     "metadata": {},
     "output_type": "execute_result"
    }
   ],
   "source": [
    "model.fit(X, y, epochs=10, batch_size=32, validation_split=0.2)"
   ]
  },
  {
   "cell_type": "code",
   "execution_count": 7,
   "metadata": {},
   "outputs": [
    {
     "name": "stdout",
     "output_type": "stream",
     "text": [
      "WARNING:tensorflow:From /Users/jsusser/opt/anaconda3/lib/python3.7/site-packages/tensorflow/python/training/tracking/tracking.py:111: Model.state_updates (from tensorflow.python.keras.engine.training) is deprecated and will be removed in a future version.\n",
      "Instructions for updating:\n",
      "This property should not be used in TensorFlow 2.0, as updates are applied automatically.\n",
      "WARNING:tensorflow:From /Users/jsusser/opt/anaconda3/lib/python3.7/site-packages/tensorflow/python/training/tracking/tracking.py:111: Layer.updates (from tensorflow.python.keras.engine.base_layer) is deprecated and will be removed in a future version.\n",
      "Instructions for updating:\n",
      "This property should not be used in TensorFlow 2.0, as updates are applied automatically.\n",
      "INFO:tensorflow:Assets written to: dogs-cats/assets\n"
     ]
    }
   ],
   "source": [
    "model.save('dogs-cats')"
   ]
  },
  {
   "cell_type": "code",
   "execution_count": null,
   "metadata": {},
   "outputs": [],
   "source": []
  }
 ],
 "metadata": {
  "kernelspec": {
   "display_name": "Python 3",
   "language": "python",
   "name": "python3"
  },
  "language_info": {
   "codemirror_mode": {
    "name": "ipython",
    "version": 3
   },
   "file_extension": ".py",
   "mimetype": "text/x-python",
   "name": "python",
   "nbconvert_exporter": "python",
   "pygments_lexer": "ipython3",
   "version": "3.7.6"
  }
 },
 "nbformat": 4,
 "nbformat_minor": 4
}
